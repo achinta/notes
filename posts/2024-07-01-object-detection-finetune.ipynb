{
 "cells": [
  {
   "cell_type": "markdown",
   "metadata": {},
   "source": [
    "---\n",
    "title: \"Object Detction Finetuning\"\n",
    "format: html\n",
    "date: 2024-05-27\n",
    "---"
   ]
  },
  {
   "cell_type": "markdown",
   "metadata": {},
   "source": []
  },
  {
   "cell_type": "markdown",
   "metadata": {},
   "source": [
    "I was trying to finetune a object detection model on a custom dataset. I was looking for example code for the same, but most examples I could find were for classification. \n",
    "What could be the reason for this?\n",
    "\n",
    "- **Features:** After feature extraction, classification is straightforward as it is just a fully connected layer on top of the extracted features. But for object detection (say YOLO), the features we extract are in the shape `S X S X B X (5 + C)`, where S is the grid size, B is the number of bounding boxes per grid cell, 5 is the bounding box coordinates and objectness score, and C is the number of classes. Here S X S is the grid size, to which we want to divide the image. \n",
    "- **Loss Computation:** After bounding box generation during training time, the loss computation is also different. We need to compute the loss for the bounding box coordinates, objectness score, and class prediction. \n",
    "- **Dataset Formats:** There are several formats in which the labels and bounding boxes are represented. `Roboflow`, makes it easy to convert between these formats.\n",
    "- At inference time, from all the bounding boxes generated, we need to select the bounding boxes with the highest objectness score and then apply non-max suppression to remove overlapping bounding boxes.\n",
    "    "
   ]
  },
  {
   "cell_type": "markdown",
   "metadata": {},
   "source": []
  }
 ],
 "metadata": {
  "language_info": {
   "name": "python"
  }
 },
 "nbformat": 4,
 "nbformat_minor": 2
}
