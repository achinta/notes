{
 "cells": [
  {
   "cell_type": "markdown",
   "metadata": {},
   "source": [
    "---\n",
    "title: \"Finding Urban Locality data for India\"\n",
    "format: html\n",
    "date: 2024-07-14\n",
    "---"
   ]
  },
  {
   "cell_type": "markdown",
   "metadata": {},
   "source": [
    "There was a need to move away from Google Maps for locality data in India due to increase in Google Maps geocoding pricing. We could find very good \n",
    "Village data from [Local Government Directory](https://lgdirectory.gov.in/). But the urban data still consisted of government bodies in urban areas, but not the new \n",
    "and popular names they are referred with. For example, we may not find HSR Layout (Bangalore)\n",
    "\n",
    "### Data Sources considered\n",
    "##### India postcode data \n",
    "https://www.data.gov.in/resource/all-india-pincode-directory-till-last-month\n",
    "This contains only the postal codes. If an urban area does not have a post office, we cannot find it in this dataset"
   ]
  },
  {
   "cell_type": "code",
   "execution_count": 9,
   "metadata": {},
   "outputs": [
    {
     "name": "stdout",
     "output_type": "stream",
     "text": [
      "postcodes shape - (157126, 11)\n",
      "number of unique postcodes - 19300\n"
     ]
    },
    {
     "data": {
      "text/html": [
       "<div>\n",
       "<style scoped>\n",
       "    .dataframe tbody tr th:only-of-type {\n",
       "        vertical-align: middle;\n",
       "    }\n",
       "\n",
       "    .dataframe tbody tr th {\n",
       "        vertical-align: top;\n",
       "    }\n",
       "\n",
       "    .dataframe thead th {\n",
       "        text-align: right;\n",
       "    }\n",
       "</style>\n",
       "<table border=\"1\" class=\"dataframe\">\n",
       "  <thead>\n",
       "    <tr style=\"text-align: right;\">\n",
       "      <th></th>\n",
       "      <th>CircleName</th>\n",
       "      <th>RegionName</th>\n",
       "      <th>DivisionName</th>\n",
       "      <th>OfficeName</th>\n",
       "      <th>Pincode</th>\n",
       "      <th>OfficeType</th>\n",
       "      <th>Delivery</th>\n",
       "      <th>District</th>\n",
       "      <th>StateName</th>\n",
       "      <th>Latitude</th>\n",
       "      <th>Longitude</th>\n",
       "    </tr>\n",
       "  </thead>\n",
       "  <tbody>\n",
       "    <tr>\n",
       "      <th>0</th>\n",
       "      <td>Andhra Pradesh Circle</td>\n",
       "      <td>Kurnool Region</td>\n",
       "      <td>Hindupur Division</td>\n",
       "      <td>Peddakotla B.O</td>\n",
       "      <td>515631</td>\n",
       "      <td>BO</td>\n",
       "      <td>Delivery</td>\n",
       "      <td>ANANTAPUR</td>\n",
       "      <td>ANDHRA PRADESH</td>\n",
       "      <td>14.5689</td>\n",
       "      <td>77.85624</td>\n",
       "    </tr>\n",
       "    <tr>\n",
       "      <th>1</th>\n",
       "      <td>Andhra Pradesh Circle</td>\n",
       "      <td>Kurnool Region</td>\n",
       "      <td>Hindupur Division</td>\n",
       "      <td>Pinnadhari B.O</td>\n",
       "      <td>515631</td>\n",
       "      <td>BO</td>\n",
       "      <td>Delivery</td>\n",
       "      <td>ANANTAPUR</td>\n",
       "      <td>ANDHRA PRADESH</td>\n",
       "      <td>14.5281</td>\n",
       "      <td>77.857014</td>\n",
       "    </tr>\n",
       "    <tr>\n",
       "      <th>2</th>\n",
       "      <td>Andhra Pradesh Circle</td>\n",
       "      <td>Kurnool Region</td>\n",
       "      <td>Hindupur Division</td>\n",
       "      <td>Yerraguntapalle B.O</td>\n",
       "      <td>515631</td>\n",
       "      <td>BO</td>\n",
       "      <td>Delivery</td>\n",
       "      <td>ANANTAPUR</td>\n",
       "      <td>ANDHRA PRADESH</td>\n",
       "      <td>14.561111</td>\n",
       "      <td>77.85715</td>\n",
       "    </tr>\n",
       "  </tbody>\n",
       "</table>\n",
       "</div>"
      ],
      "text/plain": [
       "              CircleName      RegionName       DivisionName  \\\n",
       "0  Andhra Pradesh Circle  Kurnool Region  Hindupur Division   \n",
       "1  Andhra Pradesh Circle  Kurnool Region  Hindupur Division   \n",
       "2  Andhra Pradesh Circle  Kurnool Region  Hindupur Division   \n",
       "\n",
       "            OfficeName  Pincode OfficeType  Delivery   District  \\\n",
       "0       Peddakotla B.O   515631         BO  Delivery  ANANTAPUR   \n",
       "1       Pinnadhari B.O   515631         BO  Delivery  ANANTAPUR   \n",
       "2  Yerraguntapalle B.O   515631         BO  Delivery  ANANTAPUR   \n",
       "\n",
       "        StateName   Latitude  Longitude  \n",
       "0  ANDHRA PRADESH    14.5689   77.85624  \n",
       "1  ANDHRA PRADESH    14.5281  77.857014  \n",
       "2  ANDHRA PRADESH  14.561111   77.85715  "
      ]
     },
     "execution_count": 9,
     "metadata": {},
     "output_type": "execute_result"
    }
   ],
   "source": [
    "import pandas as pd\n",
    "from pathlib import Path\n",
    "\n",
    "postcodes = pd.read_csv(Path.home()/'Downloads/pincode.csv', low_memory=False)\n",
    "print(f'postcodes shape - {postcodes.shape}')\n",
    "print(f'number of unique postcodes - {postcodes[\"Pincode\"].nunique()}')\n",
    "postcodes.head(3)\n"
   ]
  },
  {
   "cell_type": "markdown",
   "metadata": {},
   "source": [
    "### Google Maps vs Ola Maps\n",
    "\n",
    "When we search for 'Goregoan, Mumbai' in https://developers.google.com/maps/documentation/geocoding/overview#geocoding-requests, \n",
    "it is identified as a sublocality. \n",
    "\n",
    "![Geocoding Result](images/google_geocoding_result.jpg)\n",
    "\n",
    "Let us search for it in Ola Maps"
   ]
  },
  {
   "cell_type": "markdown",
   "metadata": {},
   "source": []
  },
  {
   "cell_type": "code",
   "execution_count": 12,
   "metadata": {},
   "outputs": [
    {
     "data": {
      "text/plain": [
       "{'message': 'Unauthorized'}"
      ]
     },
     "execution_count": 12,
     "metadata": {},
     "output_type": "execute_result"
    }
   ],
   "source": [
    "import os\n",
    "import requests\n",
    "api_key = os.environ.get('OLA_MAPS_API_KEY')\n",
    "\n",
    "\n",
    "address = 'Goregoan, Mumbai'\n",
    "\n",
    "url = \"https://api.olamaps.io/places/v1/geocode\"\n",
    "params = {\n",
    "    \"address\": address,\n",
    "    \"language\": \"EN\",\n",
    "    \"api_key\": api_key\n",
    "}\n",
    "\n",
    "response = requests.get(url, params=params)\n",
    "resp = response.json()\n",
    "resp\n",
    "\n",
    "# print(f'num results - {len(resp[\"geocodingResults\"])}')\n",
    "# print(resp[\"geocodingResults\"][0][\"formattedAddress\"])"
   ]
  },
  {
   "cell_type": "code",
   "execution_count": null,
   "metadata": {},
   "outputs": [],
   "source": []
  }
 ],
 "metadata": {
  "kernelspec": {
   "display_name": "ml",
   "language": "python",
   "name": "python3"
  },
  "language_info": {
   "codemirror_mode": {
    "name": "ipython",
    "version": 3
   },
   "file_extension": ".py",
   "mimetype": "text/x-python",
   "name": "python",
   "nbconvert_exporter": "python",
   "pygments_lexer": "ipython3",
   "version": "3.11.8"
  }
 },
 "nbformat": 4,
 "nbformat_minor": 2
}
