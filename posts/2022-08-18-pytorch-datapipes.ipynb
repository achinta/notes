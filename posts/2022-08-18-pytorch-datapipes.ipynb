{
 "cells": [
  {
   "cell_type": "raw",
   "metadata": {},
   "source": [
    "---\n",
    "aliases:\n",
    "- /2022/08/18/pytorch-datapipes\n",
    "date: '2022-08-18'\n",
    "description: Understanding by doing\n",
    "output-file: 2022-08-18-pytorch-datapipes.html\n",
    "title: Pytorch Datapipes\n",
    "\n",
    "---\n",
    "\n"
   ]
  },
  {
   "cell_type": "code",
   "execution_count": 4,
   "id": "0fde6077-fdc3-4b72-ab6c-2eb7d4364373",
   "metadata": {},
   "outputs": [
    {
     "data": {
      "text/plain": [
       "[1, 2, 3]"
      ]
     },
     "execution_count": 4,
     "metadata": {},
     "output_type": "execute_result"
    }
   ],
   "source": [
    "from functools import reduce\n",
    "from operator import add\n",
    "l = [[1], [2,3]]\n",
    "reduce(add, l)"
   ]
  },
  {
   "cell_type": "code",
   "execution_count": null,
   "id": "d026035d-41fc-4fd1-8708-67062009fbbb",
   "metadata": {},
   "outputs": [],
   "source": []
  }
 ],
 "metadata": {
  "kernelspec": {
   "display_name": "Python 3 (ipykernel)",
   "language": "python",
   "name": "python3"
  },
  "language_info": {
   "codemirror_mode": {
    "name": "ipython",
    "version": 3
   },
   "file_extension": ".py",
   "mimetype": "text/x-python",
   "name": "python",
   "nbconvert_exporter": "python",
   "pygments_lexer": "ipython3",
   "version": "3.9.12"
  }
 },
 "nbformat": 4,
 "nbformat_minor": 5
}
