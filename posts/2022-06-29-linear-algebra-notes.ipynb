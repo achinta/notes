{
 "cells": [
  {
   "cell_type": "raw",
   "metadata": {},
   "source": [
    "---\n",
    "aliases:\n",
    "- /2022/06/29/linear-algebra-notes\n",
    "date: '2022-06-29'\n",
    "output-file: 2022-06-29-linear-algebra-notes.html\n",
    "\n",
    "---\n",
    "\n"
   ]
  },
  {
   "cell_type": "code",
   "execution_count": 1,
   "id": "42ab055a-b1b5-426b-b4ad-99e13b1419da",
   "metadata": {},
   "outputs": [],
   "source": [
    "import numpy as np\n",
    "import seaborn as sns"
   ]
  },
  {
   "cell_type": "markdown",
   "id": "117ebe2b-9cb2-4c8e-84f7-c585c38e7758",
   "metadata": {},
   "source": [
    "### Properties of Eigen Values and Vectors\n",
    " - A symmetric matrix has real eigen values"
   ]
  },
  {
   "cell_type": "code",
   "execution_count": 2,
   "id": "9b481551-1491-46c0-b898-9b7af9f79aec",
   "metadata": {},
   "outputs": [
    {
     "data": {
      "text/plain": [
       "array([[-5. , -2.5, -2. ],\n",
       "       [-2.5, -9. ,  4.5],\n",
       "       [-2. ,  4.5,  3. ]])"
      ]
     },
     "execution_count": 2,
     "metadata": {},
     "output_type": "execute_result"
    }
   ],
   "source": [
    "# create a symmetric matrix\n",
    "def get_random_symmetrix_matrix(n=3):\n",
    "    a = np.random.randint(-10,10, (3,3))\n",
    "    return (a + a.transpose())/2\n",
    "\n",
    "s = get_random_symmetrix_matrix()\n",
    "s"
   ]
  },
  {
   "cell_type": "code",
   "execution_count": 3,
   "id": "18428506-2edb-4982-b0ba-429ec6ed9b63",
   "metadata": {},
   "outputs": [
    {
     "data": {
      "text/plain": [
       "(array([  5.22047873,  -5.17812095, -11.04235778]),\n",
       " array([[-0.2587962 ,  0.91904091, -0.29730177],\n",
       "        [ 0.33248317, -0.20422367, -0.92073212],\n",
       "        [ 0.90690654,  0.3371298 ,  0.25271333]]))"
      ]
     },
     "execution_count": 3,
     "metadata": {},
     "output_type": "execute_result"
    }
   ],
   "source": [
    "w, v = np.linalg.eig(s)\n",
    "w, v"
   ]
  },
  {
   "cell_type": "code",
   "execution_count": 4,
   "id": "b6e4d86b-c3a4-482d-97bb-1a1df6df2648",
   "metadata": {},
   "outputs": [
    {
     "name": "stdout",
     "output_type": "stream",
     "text": [
      "1.0\n",
      "-1.520268617663237e-16\n"
     ]
    }
   ],
   "source": [
    "# check the magnitude of the first eigen vector. \n",
    "print(np.dot(v[0], v[0]))\n",
    "\n",
    "# check the dot product. \n",
    "print(np.dot(v[0], v[1]))\n",
    "\n",
    "# as dimension is one and dot product is close to zero, they are orthonormal"
   ]
  },
  {
   "cell_type": "markdown",
   "id": "0c2e6d86-4a1c-4617-be90-cba5e56f33ae",
   "metadata": {},
   "source": [
    "### Power method to find the dominant eigan value\n",
    "We initialize a random vector x, usually 1s. We multiply ax and divide the output to make the "
   ]
  },
  {
   "cell_type": "code",
   "execution_count": 17,
   "id": "405909e0-8b10-4107-9246-e11a69f3c972",
   "metadata": {},
   "outputs": [
    {
     "name": "stdout",
     "output_type": "stream",
     "text": [
      "dominant eig is 11.085887005510221 in 6 iterations with margin 0.001\n"
     ]
    },
    {
     "data": {
      "text/plain": [
       "<AxesSubplot:>"
      ]
     },
     "execution_count": 17,
     "metadata": {},
     "output_type": "execute_result"
    },
    {
     "data": {
      "image/png": "[encoded data removed]",
      "text/plain": [
       "<Figure size 432x288 with 1 Axes>"
      ]
     },
     "metadata": {
      "needs_background": "light"
     },
     "output_type": "display_data"
    }
   ],
   "source": [
    "error = 0.001\n",
    "n = 3\n",
    "\n",
    "s = get_random_symmetrix_matrix(n)\n",
    "x = np.array([1.0] * n)\n",
    "\n",
    "def get_dominant_eig_value(a):\n",
    "    eigs = []\n",
    "    eig_old = None\n",
    "    x = np.array([1.0] * a.shape[1])\n",
    "    while True:\n",
    "        x = np.matmul(a,x)\n",
    "        eig = np.max(np.abs(x))\n",
    "        x = x/eig\n",
    "        if eig_old and abs(eig - eig_old) < error:\n",
    "            break\n",
    "        eig_old = eig\n",
    "        eigs.append(eig)\n",
    "    return (eig, eigs)\n",
    "  \n",
    "dom_eig, eigs = get_dominant_eig_value(s)\n",
    "print(f'dominant eig is {dom_eig} in {len(eigs)} iterations with margin {error}')\n",
    "\n",
    "sns.scatterplot(x=range(len(eigs)), y=eigs)"
   ]
  },
  {
   "cell_type": "code",
   "execution_count": null,
   "id": "1bb6100d-78f1-4e79-8900-0e139679af98",
   "metadata": {},
   "outputs": [],
   "source": []
  },
  {
   "cell_type": "code",
   "execution_count": 6,
   "id": "e10ca1de-b179-4f14-af83-bf30b58dbc90",
   "metadata": {},
   "outputs": [
    {
     "ename": "SyntaxError",
     "evalue": "unexpected EOF while parsing (2266885346.py, line 1)",
     "output_type": "error",
     "traceback": [
      "\u001b[0;36m  Input \u001b[0;32mIn [6]\u001b[0;36m\u001b[0m\n\u001b[0;31m    np.abs(\u001b[0m\n\u001b[0m           ^\u001b[0m\n\u001b[0;31mSyntaxError\u001b[0m\u001b[0;31m:\u001b[0m unexpected EOF while parsing\n"
     ]
    }
   ],
   "source": [
    "np.abs("
   ]
  }
 ],
 "metadata": {
  "kernelspec": {
   "display_name": "Python 3.9.6 64-bit",
   "language": "python",
   "name": "python3"
  },
  "language_info": {
   "codemirror_mode": {
    "name": "ipython",
    "version": 3
   },
   "file_extension": ".py",
   "mimetype": "text/x-python",
   "name": "python",
   "nbconvert_exporter": "python",
   "pygments_lexer": "ipython3",
   "version": "3.6.9"
  },
  "vscode": {
   "interpreter": {
    "hash": "31f2aee4e71d21fbe5cf8b01ff0e069b9275f58929596ceb00d14d90e3e16cd6"
   }
  }
 },
 "nbformat": 4,
 "nbformat_minor": 5
}
