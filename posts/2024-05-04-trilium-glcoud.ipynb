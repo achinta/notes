{
 "cells": [
  {
   "cell_type": "raw",
   "metadata": {},
   "source": [
    "---\n",
    "title: \"Run Trilium server in google cloud run\"\n",
    "format: html\n",
    "---"
   ]
  },
  {
   "cell_type": "markdown",
   "metadata": {},
   "source": [
    "### Purpose\n",
    "Trilium can be used as a personal knowledge base. It can be run locally or synchronized across multiple devices as a server. By using google cloud run as the server, we can have a reliable and scalable solution with the following advantages. \n",
    "\n",
    "1. **Cost-effective**: Cloud Run is serverless. So no hassles of maintaining a server or VM. We pay only for the resources used. We can scale the number of nodes to zero when not in use. \n",
    "2. **Storage**: A recent feature of Cloud Run is the ability to mount a google cloud storage bucket as a volume. \n",
    "\n",
    "\n",
    "### Steps\n",
    "```bash\n",
    "# set the project name and region. Change these values as per your requirement\n",
    "export PROJECT_ID=project_xyz\n",
    "export REGION=asia-southeast1\n",
    "export BUCKET_NAME=bucket_name\n",
    "\n",
    "# switch to the project\n",
    "gcloud config set project $PROJECT_ID\n",
    "\n",
    "# create a cloud storage bucket\n",
    "gsutil mb -l $REGION gs://$BUCKET_NAME\n",
    "\n",
    "# deploy trilium to cloud run\n",
    "gcloud beta run deploy trilium --image zadam/trilium:0.63-latest \\\n",
    "--execution-environment gen2 \\\n",
    "--add-volume=name=trilium_data,type=cloud-storage,bucket=$BUCKET_NAME \\\n",
    "--add-volume-mount=volume=trilium_data,mount-path=/home/node/trilium-data \\\n",
    "--allow-unauthenticated --max-instances 1 \\\n",
    "--memory 512Mi \\\n",
    "--region $REGION --project $PROJECT_ID\n",
    "```\n",
    "Once deployment is successful, we get a url in shell, something like https://trilium-xyz1234-as.a.run.app\n",
    "\n",
    "### Access\n",
    "1. Open the url in a browser. Now you can set a strong password and start using trilium.\n"
   ]
  }
 ],
 "metadata": {
  "language_info": {
   "name": "python"
  }
 },
 "nbformat": 4,
 "nbformat_minor": 2
}
