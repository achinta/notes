{
 "cells": [
  {
   "cell_type": "raw",
   "metadata": {},
   "source": [
    "---\n",
    "title: \"Run Qdrant in Google Cloud Run\"\n",
    "format: html\n",
    "---"
   ]
  },
  {
   "cell_type": "markdown",
   "metadata": {
    "vscode": {
     "languageId": "python"
    }
   },
   "source": [
    "I want to minimize the cost involved in running a qdrant vector database, while keeping it scalable. But how do we persist the data across instances?\n",
    "Google Cloud Run gen2 supports mounting a cloud storage bucket as a volume. \n",
    "\n",
    "```bash\n",
    "# set the project name and region\n",
    "export $PROJECT_ID=project_xyz\n",
    "export $REGION=asia-southeast1\n",
    "export $BUCKET_NAME=bucket_name\n",
    "\n",
    "# create a cloud storage bucket\n",
    "gsutil mb -l $REGION gs://bucket_name\n",
    "\n",
    "\n",
    "# deploy the cloud run service\n",
    "gcloud beta run deploy qdrant --image qdrant/qdrant:latest \\\n",
    "--execution-environment gen2 \\\n",
    "--add-volume=name=qdrant_storage,type=cloud-storage,bucket=$BUCKET_NAME \\\n",
    "--add-volume-mount=volume=qdrant_storage,mount-path=/qdrant/storage \\\n",
    "--allow-unauthenticated --max-instances 1 \\\n",
    "--update-env-vars QDRANT__SERVICE__HTTP_PORT=8080,QDRANT__SERVICE__API_KEY=$QDRANT__SERVICE__API_KEY \\\n",
    "--memory 512Mi \\\n",
    "--region $REGION --project $PROJECT_ID\n",
    "\n",
    "# to update the cloud run service\n",
    "gcloud beta run services update qdrant \\\n",
    "--region asia-southeast1 --project $PROJECT_ID \\\n",
    "--memory 512Mi --max-instances 1 \\\n",
    "```\n",
    "\n"
   ]
  },
  {
   "cell_type": "markdown",
   "metadata": {},
   "source": []
  }
 ],
 "metadata": {
  "language_info": {
   "name": "python"
  }
 },
 "nbformat": 4,
 "nbformat_minor": 2
}
