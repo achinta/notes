{
 "cells": [
  {
   "cell_type": "raw",
   "metadata": {},
   "source": [
    "---\n",
    "aliases:\n",
    "- /2022/06/26/quantile-plot\n",
    "date: '2022-06-26'\n",
    "output-file: 2022-06-26-quantile-plot.html\n",
    "\n",
    "---\n",
    "\n"
   ]
  },
  {
   "cell_type": "markdown",
   "id": "893d9bbe-6da5-406e-87db-a797bc01dc57",
   "metadata": {},
   "source": [
    "We will try to understand a quantile plot. \n",
    "\n",
    "Lets us generate `n` numbers from a uniform distribution. We will then compare those numbers with uniform and normal distribution"
   ]
  },
  {
   "cell_type": "code",
   "execution_count": 1,
   "id": "90f4c4bf-10b3-4087-a967-9345781ff88f",
   "metadata": {},
   "outputs": [],
   "source": [
    "import numpy as np\n",
    "import seaborn as sns"
   ]
  },
  {
   "cell_type": "code",
   "execution_count": 38,
   "id": "bbeae01f-50d4-4edb-969e-6fd55e87840a",
   "metadata": {},
   "outputs": [
    {
     "data": {
      "text/plain": [
       "array([1.14572246, 4.51022338, 5.33175385, 5.82544947, 7.14328162,\n",
       "       8.45844914, 8.84241316, 9.01455406, 9.84060727])"
      ]
     },
     "execution_count": 38,
     "metadata": {},
     "output_type": "execute_result"
    }
   ],
   "source": [
    "n = 9\n",
    "a = np.sort(np.random.uniform(1, 10, size=n))\n",
    "a"
   ]
  },
  {
   "cell_type": "code",
   "execution_count": 39,
   "id": "0804b479-4a41-4a3c-805e-0821679f1790",
   "metadata": {},
   "outputs": [
    {
     "data": {
      "text/plain": [
       "[0.1, 0.2, 0.3, 0.4, 0.5, 0.6, 0.7, 0.8, 0.9]"
      ]
     },
     "execution_count": 39,
     "metadata": {},
     "output_type": "execute_result"
    }
   ],
   "source": [
    "quantiles = [k/(n+1) for k in range(1, n+1)]\n",
    "quantiles "
   ]
  },
  {
   "cell_type": "markdown",
   "id": "7d9c077d-910d-464f-ac27-fc72a2fedd8a",
   "metadata": {},
   "source": [
    "If we take the quntiles of a, they will be equally spaced. Now lets divide the area under the target distribution with which we are comparing and read the corresponding values of the random variable. \n",
    "\n",
    "If the array values and the corresponding values from the distribtution are proportional (ie, straight we have a straight line in a plot), then the array is close to the distribution "
   ]
  },
  {
   "cell_type": "code",
   "execution_count": 40,
   "id": "9e7c7c8e-bbfb-4638-91cd-d2b314051872",
   "metadata": {},
   "outputs": [],
   "source": [
    "from scipy.stats import norm, uniform"
   ]
  },
  {
   "cell_type": "code",
   "execution_count": 41,
   "id": "54355764-61bd-410e-a25a-e07747f089a1",
   "metadata": {},
   "outputs": [
    {
     "name": "stdout",
     "output_type": "stream",
     "text": [
      "[-1.28155157 -0.84162123 -0.52440051 -0.2533471   0.          0.2533471\n",
      "  0.52440051  0.84162123  1.28155157]\n"
     ]
    },
    {
     "data": {
      "text/plain": [
       "Text(0.5, 1.0, 'compare with normal dist')"
      ]
     },
     "execution_count": 41,
     "metadata": {},
     "output_type": "execute_result"
    },
    {
     "data": {
      "image/png": "[encoded data removed]",
      "text/plain": [
       "<Figure size 432x288 with 1 Axes>"
      ]
     },
     "metadata": {
      "needs_background": "light"
     },
     "output_type": "display_data"
    }
   ],
   "source": [
    "dist = norm()\n",
    "dist_vals = dist.ppf(quantiles)\n",
    "print(dist_vals)\n",
    "ax = sns.scatterplot(x=a,y=dist_vals)\n",
    "ax.set_title('compare with normal dist')"
   ]
  },
  {
   "cell_type": "code",
   "execution_count": 42,
   "id": "b11b5bc1-61f8-439a-95a3-d335dc49ffb9",
   "metadata": {},
   "outputs": [
    {
     "name": "stdout",
     "output_type": "stream",
     "text": [
      "[0.1 0.2 0.3 0.4 0.5 0.6 0.7 0.8 0.9]\n"
     ]
    },
    {
     "data": {
      "text/plain": [
       "Text(0.5, 1.0, 'compare with uniform dist')"
      ]
     },
     "execution_count": 42,
     "metadata": {},
     "output_type": "execute_result"
    },
    {
     "data": {
      "image/png": "[encoded data removed]",
      "text/plain": [
       "<Figure size 432x288 with 1 Axes>"
      ]
     },
     "metadata": {
      "needs_background": "light"
     },
     "output_type": "display_data"
    }
   ],
   "source": [
    "dist = uniform()\n",
    "dist_vals = dist.ppf(quantiles)\n",
    "print(dist_vals)\n",
    "ax = sns.scatterplot(x=a,y=dist_vals)\n",
    "ax.set_title('compare with uniform dist')"
   ]
  },
  {
   "cell_type": "code",
   "execution_count": null,
   "id": "3528f6fb-03e9-4b6c-86f5-63e0c388cc2f",
   "metadata": {},
   "outputs": [],
   "source": []
  }
 ],
 "metadata": {
  "kernelspec": {
   "display_name": "Python 3 (ipykernel)",
   "language": "python",
   "name": "python3"
  },
  "language_info": {
   "codemirror_mode": {
    "name": "ipython",
    "version": 3
   },
   "file_extension": ".py",
   "mimetype": "text/x-python",
   "name": "python",
   "nbconvert_exporter": "python",
   "pygments_lexer": "ipython3",
   "version": "3.9.12"
  }
 },
 "nbformat": 4,
 "nbformat_minor": 5
}
