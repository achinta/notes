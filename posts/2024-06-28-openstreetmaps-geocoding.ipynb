{
 "cells": [
  {
   "cell_type": "markdown",
   "metadata": {},
   "source": [
    "---\n",
    "title: \"Open Stree Maps for Geocoding\"\n",
    "format: html\n",
    "date: 2024-06-28\n",
    "---"
   ]
  },
  {
   "cell_type": "markdown",
   "metadata": {},
   "source": [
    "We have a need to geocode (get latlong from an address component) a large number of addresses. Doing it using google maps api would be expensive. \n",
    "Hence trying out Open Street Maps ([OSM](https://www.openstreetmap.org/#map=5/21.843/82.795))\n",
    "\n",
    "[Nominatum](https://nominatim.org/release-docs/latest/) is an api service for OSM.\n",
    "\n",
    "More details on importing the data - https://nominatim.org/release-docs/4.4/admin/Import/\n",
    "\n",
    "We start the docker container and import the data, as described [here](https://github.com/mediagis/nominatim-docker/tree/master/4.4)\n",
    "```shell\n",
    "docker run -it \\\n",
    "  -e PBF_URL=https://download.geofabrik.de/asia/india-latest.osm.pbf \\\n",
    "  -e REPLICATION_URL=https://download.geofabrik.de/asia/india-updates/ \\\n",
    "  -e IMPORT_STYLE=street \\\n",
    "  -p 8080:8080 \\\n",
    "  -v nominatim-data:/var/lib/postgresql/14/main \\\n",
    "  -v nominatim-flatnode:/nominatim/flatnode \\\n",
    "  -e IMPORT_WIKIPEDIA=false \\\n",
    "  --name nominatim \\\n",
    "  mediagis/nominatim:4.4\n",
    "```\n",
    "\n",
    "The import took around 5 hours (as it was India data only)\n",
    "The docker memory usage of 9GB. The `nominatim-data` volume is around 24 GB and `nominatim-flatnode` is around 96 GB.\n",
    "\n",
    "We can start the container again using the following command\n",
    "```shell\n",
    "docker start nominatim\n",
    "```\n"
   ]
  },
  {
   "cell_type": "code",
   "execution_count": null,
   "metadata": {},
   "outputs": [],
   "source": []
  }
 ],
 "metadata": {
  "kernelspec": {
   "display_name": "ml",
   "language": "python",
   "name": "python3"
  },
  "language_info": {
   "name": "python",
   "version": "3.11.8"
  }
 },
 "nbformat": 4,
 "nbformat_minor": 2
}
