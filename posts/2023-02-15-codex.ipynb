{
 "cells": [
  {
   "cell_type": "raw",
   "metadata": {},
   "source": [
    "---\n",
    "aliases:\n",
    "- /2023/02/15/codex\n",
    "date: '2023-02-15'\n",
    "output-file: 2023-02-15-codex.html\n",
    "\n",
    "---\n",
    "\n"
   ]
  },
  {
   "attachments": {},
   "cell_type": "markdown",
   "id": "61e4f264-5794-4877-b5aa-19dcdd21216d",
   "metadata": {},
   "source": [
    "Here I am exploring the capabiliteis of Text to SQL of OpenAI codex vs fine-tuned t5-3b model (picard). \n",
    "\n",
    "https://openai.com/blog/openai-codex/"
   ]
  },
  {
   "cell_type": "code",
   "execution_count": 4,
   "id": "f16483db-0445-4fc2-928a-45d5b48a6272",
   "metadata": {},
   "outputs": [],
   "source": [
    "import os\n",
    "import openai\n",
    "from typing import Dict, List\n",
    "import json\n",
    "import requests\n",
    "\n",
    "openai.api_key = os.getenv(\"OPENAI_API_KEY\")\n",
    "\n",
    "def get_schema_string_for_codex(schema_json:Dict):\n",
    "  # accepts schema json where key is table name and value is list of columns\n",
    "  tables = []\n",
    "  for table, columns in schema_json.items():\n",
    "    cols = \", \".join(columns)\n",
    "    table_string = f\"# Table {table}, columns = [{cols}]\"\n",
    "    tables.append(table_string)\n",
    "\n",
    "  schema_str = \"# SQL\\n\\n\"\n",
    "  schema_str += \"\\n\".join(tables)\n",
    "  return schema_str\n",
    "\n",
    "\n",
    "def get_codex_sql(schema, query, print_prompt=True):\n",
    "  prompt = \"\\n\\n\".join([schema, query])\n",
    "  if print_prompt:\n",
    "    print(prompt)\n",
    "  response = openai.Completion.create(\n",
    "    model=\"code-davinci-002\",\n",
    "    prompt=prompt,\n",
    "    temperature=0,\n",
    "    max_tokens=150,\n",
    "    top_p=1.0,\n",
    "    frequency_penalty=0.0,\n",
    "    presence_penalty=0.0,\n",
    "    stop=[\"#\", \";\"]\n",
    "  )\n",
    "  return response.choices[0].text\n",
    "\n",
    "\n",
    "def get_schema_string_for_picard(schema_json:Dict, db_name:str):\n",
    "  tables = []\n",
    "  for table, columns in schema_json.items():\n",
    "    cols = \", \".join(columns)\n",
    "    table_string = f\"{table} : {cols}\"\n",
    "    tables.append(table_string)\n",
    "  schema_str = f'| {db_name} | ' + ' | '.join(tables)\n",
    "  return schema_str\n",
    "\n",
    "def get_picard_sql(schema_str, query, print_prompt=True):\n",
    "  payload = json.dumps({\n",
    "    \"question\": query,\n",
    "    \"db_schema\": schema_str\n",
    "  })\n",
    "\n",
    "  if print_prompt:\n",
    "    print(schema_str)\n",
    "  headers = {\n",
    "    'Content-Type': 'application/json'\n",
    "  }\n",
    "\n",
    "  picard_ip = os.getenv('PICARD_IP')\n",
    "  if not picard_ip:\n",
    "    raise ValueError('PICARD_IP not set')\n",
    "\n",
    "  url = f'http://{picard_ip}:8000/ask-with-schema/'\n",
    "  response = requests.request(\"POST\", url, headers=headers, data=payload)\n",
    "  return response.json()[0]"
   ]
  },
  {
   "cell_type": "code",
   "execution_count": 42,
   "id": "17336adb",
   "metadata": {},
   "outputs": [],
   "source": [
    "\n",
    "schema = {\n",
    "    \"albums\": [\"AlbumId\", \"Title\", \"ArtistId\"],\n",
    "    \"artists\": [\"ArtistId\", \"Name\"],\n",
    "    \"media_types\": [\"MediaTypeId\", \"Name\"],\n",
    "    \"playlists\": [\"PlaylistId\", \"Name\"],\n",
    "    \"playlist_track\": [\"PlaylistId\", \"TrackId\"],\n",
    "    \"tracks\": [\"TrackId\", \"Name\", \"AlbumId\", \"MediaTypeId\", \"GenreId\", \"Composer\", \"Milliseconds\", \"Bytes\", \"UnitPrice\"]\n",
    "}\n",
    "\n",
    "query = 'generate sql query to list all albums by Adele'\n",
    "query = 'genereate sql to find artists with longest average track length'\n",
    "query = 'generate sql to find the most expensive albums'\n",
    "query = 'generate sql to find duration of tracks from album abc in playlist xyz'\n",
    "query = 'generate sql to find total duration of tracks from album abc in playlist xyz'\n",
    "\n",
    "\n",
    "schema = {\n",
    "    \"well\" : [\"id, country, field, latitude, longitude, uwi, well_name\"],\n",
    "    \"well_bore\": [\"id, spud_date, ubhi, well_bore_name, well_id\"],\n",
    "    \"section\": [\"id, max_dls, max_inclination, min_dls, min_inclination, section_bottom_depth_md, section_caption, section_diameter, section_number, section_top_depth_md, well_bore_id\"],\n",
    "    \"operation\": [\"id, operation_code, operation_enddate_time, operation_end_depth, operation_start_datetime, operation_start_depth\"],\n",
    "    \"operating_parameters\": ['id', 'avg_rop', 'flow_rate_high', 'flow_rate_low', 'rpm_high', 'rpm_low', 'wob_high', 'wob_low', 'operation_id'],\n",
    "    \"run\": [\"id, run_end_depth, run_number, runs_tart_depth, section_id, operation_id\"],\n",
    "    \"bit\": [\"id, bit_run_number, bit_type, grading_out, iadc_number, manufacturer, model_number, primary_od, secondary_od, serial_number, run_id\"]\n",
    "}\n",
    "query = \"generete sql to find the count of bit types used in each well\"\n",
    "query = \"Give SQL query for Count number of bits for every section of the well bore Matzen 569\"\n",
    "query = \"give sql query to give distance drilled per hour by section number with wellbore name Prottes\"\n",
    "query = \"grading out of bit in each section with wellbore name Matzen\"\n",
    "query = \"get avg_rop by section name with WellboreName Bockfliess\"\n",
    "query = 'find wells with latitude greater than 30'\n",
    "query = 'find wells with well bores with spud date greater than 2010-01-01'\n",
    "query = 'find avg_rop, section diameter in each section with well bore name Prottes'"
   ]
  },
  {
   "cell_type": "code",
   "execution_count": 19,
   "id": "ec11dc87",
   "metadata": {},
   "outputs": [
    {
     "name": "stdout",
     "output_type": "stream",
     "text": [
      "# SQL\n",
      "\n",
      "# Table well, columns = [id, country, field, latitude, longitude, uwi, well_name]\n",
      "# Table well_bore, columns = [id, spud_date, ubhi, well_bore_name, well_id]\n",
      "# Table section, columns = [id, max_dls, max_inclination, mindls, min_inclination, section_bottom_depth_md, section_caption, section_diameter, section_number, section_top_depth_md, well_bore_id]\n",
      "# Table operation, columns = [id, operation_code, operation_enddate_time, operation_end_depth, operation_start_datetime, operation_start_depth]\n",
      "# Table run, columns = [id, run_end_depth, run_number, runs_tart_depth, section_id, operation_id]\n",
      "# Table bit, columns = [id, bit_run_number, bit_type, grading_out, iadc_number, manufacturer, model_number, primary_od, secondary_od, serial_number, run_id]\n",
      "\n",
      "Give SQL query for Count number of bits for every section of the well bore Matzen 569\n",
      "/1-1\n",
      "\n",
      "SELECT COUNT(*) FROM bit\n",
      "INNER JOIN run ON bit.run_id = run.id\n",
      "INNER JOIN section ON run.section_id = section.id\n",
      "INNER JOIN well_bore ON section.well_bore_id = well_bore.id\n",
      "INNER JOIN well ON well_bore.well_id = well.id\n",
      "WHERE well.well_name = 'Matzen 569/1-1'\n",
      "\n",
      "Give SQL query for Count number of bits for every section of the well bore Matzen 569/1-1\n",
      "\n",
      "SELECT COUNT(*) FROM bit\n",
      "INNER JOIN run ON bit\n"
     ]
    }
   ],
   "source": [
    "schema_codex = get_schema_string_for_codex(schema)\n",
    "print(get_codex_sql(schema_codex, query))"
   ]
  },
  {
   "cell_type": "code",
   "execution_count": 43,
   "id": "08afef45",
   "metadata": {},
   "outputs": [
    {
     "name": "stdout",
     "output_type": "stream",
     "text": [
      "| wells | well : id, country, field, latitude, longitude, uwi, well_name | well_bore : id, spud_date, ubhi, well_bore_name, well_id | section : id, max_dls, max_inclination, min_dls, min_inclination, section_bottom_depth_md, section_caption, section_diameter, section_number, section_top_depth_md, well_bore_id | operation : id, operation_code, operation_enddate_time, operation_end_depth, operation_start_datetime, operation_start_depth | operating_parameters : id, avg_rop, flow_rate_high, flow_rate_low, rpm_high, rpm_low, wob_high, wob_low, operation_id | run : id, run_end_depth, run_number, runs_tart_depth, section_id, operation_id | bit : id, bit_run_number, bit_type, grading_out, iadc_number, manufacturer, model_number, primary_od, secondary_od, serial_number, run_id\n",
      "\n",
      "find avg_rop, section diameter in each section with well bore name Prottes\n",
      "\n",
      "select t1.avg_rop, t1.section_diameter from operating_parameters as t1 join section as t2 on t1.section_id = t2.section_id join well_bore as t3 on t3.id = t2.well_bore_id where t3.well_bore_name = \"Prottes\"\n"
     ]
    }
   ],
   "source": [
    "schema_picard = get_schema_string_for_picard(schema, 'wells')\n",
    "print('\\n' + query + '\\n\\n' + get_picard_sql(schema_picard, query))"
   ]
  },
  {
   "attachments": {},
   "cell_type": "markdown",
   "id": "0ba4bc1e",
   "metadata": {},
   "source": [
    "### Results"
   ]
  },
  {
   "attachments": {},
   "cell_type": "markdown",
   "id": "1adc4a9b",
   "metadata": {},
   "source": [
    "| query                                                                        | codex_sql                                                                                                                                                                                                                                                                                                                                                                            | co_res | picard_sql                                                                                                                                                                                                                                         | pi_res |\n",
    "|------------------------------------------------------------------------------|--------------------------------------------------------------------------------------------------------------------------------------------------------------------------------------------------------------------------------------------------------------------------------------------------------------------------------------------------------------------------------------|--------|----------------------------------------------------------------------------------------------------------------------------------------------------------------------------------------------------------------------------------------------------|--------|\n",
    "| generate sql query to list all albums by Adele                               | SELECT * FROM albums  JOIN artists ON artists.ArtistId = albums.ArtistId  WHERE artists.Name = 'Adele'                                                                                                                                                                                                                                                                               |        | select t1.title from albums as t1 join artists as t2 on t1.ArtistId = t2.ArtistId where t2.Name = \"Adele\"                                                                                                                                          |        |\n",
    "| genereate sql to find artists with longest average track length              | SELECT a.Name, AVG(t.Milliseconds) AS AverageTrackLength FROM artists a JOIN albums al ON a.ArtistId = al.ArtistId JOIN tracks t ON al.AlbumId = t.AlbumId GROUP BY a.Name ORDER BY AverageTrackLength DESC LIMIT 1  FROM artists a  JOIN albums al ON a.ArtistId = al.ArtistId  JOIN tracks t ON al.AlbumId = t.AlbumId  GROUP BY a.Name  ORDER BY AverageTrackLength DESC  LIMIT 1 |        | select t1.Name from artists as t1 join tracks as t2 on t1.ArtistId = t2.ArtistId group by t2.ArtistId order by avg(milliseconds) desc limit 1                                                                                                      |        |\n",
    "|  generate sql to find the most expensive albums                              | select albums.title, tracks.unitprice  from albums  join tracks on albums.albumid = tracks.albumid  order by tracks.unitprice desc  limit 1                                                                                                                                                                                                                                          |        | select title from albums order by unitprice desc limit 1                                                                                                                                                                                           |        |\n",
    "| generate sql to find duration of tracks from album abc in playlist xyz       | SELECT SUM(Milliseconds)  FROM tracks  WHERE AlbumId = (SELECT AlbumId FROM albums WHERE Title = 'abc')  AND TrackId IN (SELECT TrackId FROM playlist_track WHERE PlaylistId = (SELECT PlaylistId FROM playlists WHERE Name = 'xyz'))                                                                                                                                                |        | select t1.milliseconds from tracks as t1 join playlist_track as t2 on t1.trackId = t2.TrackId join albums as t3 on t3.albumId = t2.AlbumId join playlists as t4 on t4.playlistId = t1.playlistId where t3.albumId = \"ABC\" and t4.name = \"xyz\"      |        |\n",
    "| generate sql to find total duration of tracks from album abc in playlist xyz | select sum(milliseconds) from tracks where albumid = (select albumid from albums where title = 'abc') and trackid in (select trackid from playlist_track where playlistid = (select playlistid from playlists where name = 'xyz'))                                                                                                                                                   |        | select sum(t1.milliseconds) from tracks as t1 join playlist_track as t2 on t1.trackId = t2.TrackId join albums as t3 on t3.albumId = t2.AlbumId join playlists as t4 on t4.playlistId = t1.playlistId where t3.albumId = \"ABC\" and t4.name = \"xyz\" |        |"
   ]
  },
  {
   "cell_type": "markdown",
   "id": "ad48ffb4",
   "metadata": {},
   "source": []
  }
 ],
 "metadata": {
  "kernelspec": {
   "display_name": "ml",
   "language": "python",
   "name": "python3"
  },
  "language_info": {
   "codemirror_mode": {
    "name": "ipython",
    "version": 3
   },
   "file_extension": ".py",
   "mimetype": "text/x-python",
   "name": "python",
   "nbconvert_exporter": "python",
   "pygments_lexer": "ipython3",
   "version": "3.9.12"
  },
  "vscode": {
   "interpreter": {
    "hash": "0e254e10ce936db31950534e6283aea55ae2f493e2c9033656d0427d3a6e205d"
   }
  }
 },
 "nbformat": 4,
 "nbformat_minor": 5
}
