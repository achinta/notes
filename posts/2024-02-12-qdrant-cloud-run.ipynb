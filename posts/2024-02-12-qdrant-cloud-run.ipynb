{
 "cells": [
  {
   "cell_type": "raw",
   "metadata": {},
   "source": [
    "---\n",
    "title: \"Run Qdrant in Google Cloud Run\"\n",
    "format: html\n",
    "date: 2024-02-12\n",
    "---"
   ]
  },
  {
   "cell_type": "markdown",
   "metadata": {
    "vscode": {
     "languageId": "python"
    }
   },
   "source": [
    "I want to minimize the cost involved in running a Qdrant vector database on Google Cloud.\n",
    "\n",
    "**Why Google Cloud Run for a running a vector database?**\n",
    "\n",
    "Running on Google Cloud Run offers the following advantages\n",
    " - Auto Scaling with load\n",
    " - We can keep the --min-instances to 0 to to stop running when there is no load. \n",
    "\n",
    "But the challenge is - storage on the Cloud Run containers is ephemeral. So what would be the common persistent storage for Qdrant?\n",
    "\n",
    "Luckily, from gen2, Cloud Run supports mounting a cloud storage bucket as a volume, which can be accessible across the cloud run instances. \n",
    "\n",
    "So here are the gcloud command to setup create the storage bucket and to update/deploy the cloud run service. \n",
    "```bash\n",
    "# set the project name and region\n",
    "export PROJECT_ID=project_xyz\n",
    "export REGION=asia-southeast1\n",
    "export BUCKET_NAME=bucket_name\n",
    "\n",
    "# switch to the project\n",
    "gcloud config set project $PROJECT_ID\n",
    "\n",
    "# create a cloud storage bucket\n",
    "gsutil mb -l $REGION gs://$BUCKET_NAME\n",
    "\n",
    "\n",
    "# deploy the cloud run service\n",
    "gcloud beta run deploy qdrant --image qdrant/qdrant:latest \\\n",
    "--execution-environment gen2 \\\n",
    "--add-volume=name=qdrant_storage,type=cloud-storage,bucket=$BUCKET_NAME \\\n",
    "--add-volume-mount=volume=qdrant_storage,mount-path=/qdrant/storage \\\n",
    "--allow-unauthenticated --max-instances 1 \\\n",
    "--update-env-vars QDRANT__SERVICE__HTTP_PORT=8080,QDRANT__SERVICE__API_KEY=$QDRANT__SERVICE__API_KEY \\\n",
    "--memory 512Mi \\\n",
    "--region $REGION --project $PROJECT_ID\n",
    "\n",
    "# to update the cloud run service\n",
    "gcloud beta run services update qdrant \\\n",
    "--region asia-southeast1 --project $PROJECT_ID \\\n",
    "--memory 512Mi --max-instances 1 \\\n",
    "```\n",
    "\n"
   ]
  },
  {
   "cell_type": "markdown",
   "metadata": {},
   "source": []
  }
 ],
 "metadata": {
  "language_info": {
   "name": "python"
  }
 },
 "nbformat": 4,
 "nbformat_minor": 2
}
